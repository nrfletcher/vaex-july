{
 "cells": [
  {
   "cell_type": "code",
   "execution_count": null,
   "id": "ac9b81a5-0602-4f46-b8f8-83502dcb0046",
   "metadata": {},
   "outputs": [],
   "source": []
  }
 ],
 "metadata": {
  "kernelspec": {
   "display_name": "",
   "name": ""
  },
  "language_info": {
   "name": ""
  }
 },
 "nbformat": 4,
 "nbformat_minor": 5
}
